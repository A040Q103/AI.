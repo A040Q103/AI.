{
  "nbformat": 4,
  "nbformat_minor": 0,
  "metadata": {
    "colab": {
      "name": "Untitled",
      "version": "0.3.2",
      "provenance": [],
      "include_colab_link": true
    },
    "kernelspec": {
      "name": "python3",
      "display_name": "Python 3"
    }
  },
  "cells": [
    {
      "cell_type": "markdown",
      "metadata": {
        "id": "view-in-github",
        "colab_type": "text"
      },
      "source": [
        "<a href=\"https://colab.research.google.com/github/A040Q103/AI./blob/master/first.ipynb\" target=\"_parent\"><img src=\"https://colab.research.google.com/assets/colab-badge.svg\" alt=\"Open In Colab\"/></a>"
      ]
    },
    {
      "metadata": {
        "id": "vNAkxSr1kRE7",
        "colab_type": "text"
      },
      "cell_type": "markdown",
      "source": [
        "**我的第1支程式**\n",
        "\n",
        "計算圓周長"
      ]
    },
    {
      "metadata": {
        "id": "dYMBLJybkTp0",
        "colab_type": "code",
        "outputId": "4b5b4840-9c82-4987-8a4e-fd965bd6c68a",
        "colab": {
          "base_uri": "https://localhost:8080/",
          "height": 51
        }
      },
      "cell_type": "code",
      "source": [
        "#!/usr/bin/env python\n",
        "#coding=utf-8\n",
        "\n",
        "# radius = 25 \n",
        "# Input(輸入):Prompt the user to enter a radius\n",
        "radius = eval(input(\"請輸入半徑大小|Enter a number for radius: \"))\n",
        "\n",
        "\n",
        "# Processing(處理):Compute area\n",
        "perimeter = radius *3.14159265359\n",
        "\n",
        "# Output(輸出):Display results\n",
        "print(\"圓周長是\", radius, \"is\",  perimeter)"
      ],
      "execution_count": 0,
      "outputs": [
        {
          "output_type": "stream",
          "text": [
            "請輸入半徑大小|Enter a number for radius: 100\n",
            "圓周長是 100 is 314.159265359\n"
          ],
          "name": "stdout"
        }
      ]
    },
    {
      "metadata": {
        "id": "CnKaOPx8s9Vv",
        "colab_type": "text"
      },
      "cell_type": "markdown",
      "source": [
        "**我的第2支程式**"
      ]
    },
    {
      "metadata": {
        "id": "R5AwhLq4mBuM",
        "colab_type": "code",
        "outputId": "050975d6-a926-462f-f555-fece84cebc02",
        "colab": {
          "base_uri": "https://localhost:8080/",
          "height": 68
        }
      },
      "cell_type": "code",
      "source": [
        "#!/usr/bin/env python\n",
        "#coding=utf-8\n",
        "\n",
        "# radius = 25 \n",
        "# Input(輸入):Prompt the user to enter a radius\n",
        "length = eval(input(\"請輸入長|Enter a number for length: \"))\n",
        "width = eval(input(\"請輸入寬ter a number for width: \"))\n",
        "\n",
        "# Processing(處理):Compute area\n",
        "perimeter = 2.000000 * (width + length)\n",
        "area =  length * width \n",
        "\n",
        "# Output(輸出):Display results\n",
        "print(\"四方形長度為\", length, \"寬度為\", width ,\"的面積是\", area,\"的周長是\",perimeter)\n"
      ],
      "execution_count": 0,
      "outputs": [
        {
          "output_type": "stream",
          "text": [
            "請輸入長|Enter a number for length: 100\n",
            "請輸入寬ter a number for width: 20\n",
            "四方形長度為 100 寬度為 20 的面積是 2000 的周長是 240.0\n"
          ],
          "name": "stdout"
        }
      ]
    }
  ]
}